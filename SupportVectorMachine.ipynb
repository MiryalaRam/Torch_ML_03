{
  "nbformat": 4,
  "nbformat_minor": 0,
  "metadata": {
    "colab": {
      "provenance": []
    },
    "kernelspec": {
      "name": "python3",
      "display_name": "Python 3"
    },
    "language_info": {
      "name": "python"
    }
  },
  "cells": [
    {
      "cell_type": "code",
      "source": [
        "from google.colab import drive\n",
        "drive.mount('/content/drive')\n",
        "\n",
        "# Path to the dataset in Google Drive\n",
        "data_dir = '/content/drive/My Drive/train'  # Adjust the path as necessary"
      ],
      "metadata": {
        "id": "8hDHRyaEb0XP"
      },
      "execution_count": null,
      "outputs": []
    },
    {
      "cell_type": "code",
      "source": [
        "import os\n",
        "import cv2\n",
        "import numpy as np\n",
        "from google.colab import drive\n",
        "from sklearn import svm\n",
        "from sklearn.model_selection import train_test_split\n",
        "from sklearn.metrics import accuracy_score, classification_report, confusion_matrix\n",
        "import matplotlib.pyplot as plt\n",
        "import seaborn as sns"
      ],
      "metadata": {
        "id": "KTOLwoeqb5gR"
      },
      "execution_count": null,
      "outputs": []
    },
    {
      "cell_type": "code",
      "source": [
        "# Function to load images and labels\n",
        "def load_data(data_dir):\n",
        "    images = []\n",
        "    labels = []\n",
        "    for label in ['dogs', 'cats']:\n",
        "        label_dir = os.path.join(data_dir, label)\n",
        "        for filename in os.listdir(label_dir):\n",
        "            if filename.endswith('.jpg'):\n",
        "                img_path = os.path.join(label_dir, filename)\n",
        "                img = cv2.imread(img_path, cv2.IMREAD_COLOR)\n",
        "                img = cv2.resize(img, (128, 128))  # Resize to a standard size\n",
        "                images.append(img)\n",
        "                labels.append(0 if label == 'dogs' else 1)\n",
        "    return np.array(images), np.array(labels)"
      ],
      "metadata": {
        "id": "Dm1nGCuFb86R"
      },
      "execution_count": null,
      "outputs": []
    },
    {
      "cell_type": "code",
      "source": [
        "# Load the data\n",
        "images, labels = load_data(data_dir)\n",
        "\n",
        "# Function to extract HOG features\n",
        "def extract_hog_features(images):\n",
        "    hog = cv2.HOGDescriptor()\n",
        "    features = []\n",
        "    for img in images:\n",
        "        gray = cv2.cvtColor(img, cv2.COLOR_BGR2GRAY)\n",
        "        hog_features = hog.compute(gray)\n",
        "        features.append(hog_features.flatten())\n",
        "    return np.array(features)"
      ],
      "metadata": {
        "id": "BkNcxfu2cDfK"
      },
      "execution_count": null,
      "outputs": []
    },
    {
      "cell_type": "code",
      "source": [
        "# Extract HOG features\n",
        "features = extract_hog_features(images)\n",
        "\n",
        "# Split the data into training and testing sets\n",
        "X_train, X_test, y_train, y_test = train_test_split(features, labels, test_size=0.2, random_state=42)\n",
        "\n",
        "# Train an SVM classifier\n",
        "clf = svm.SVC(kernel='linear')\n",
        "clf.fit(X_train, y_train)\n",
        "\n",
        "# Make predictions on the test set\n",
        "y_pred = clf.predict(X_test)"
      ],
      "metadata": {
        "id": "P9VOBUuocJSh"
      },
      "execution_count": null,
      "outputs": []
    },
    {
      "cell_type": "code",
      "execution_count": 4,
      "metadata": {
        "colab": {
          "base_uri": "https://localhost:8080/"
        },
        "id": "4Umj8AZuZMZe",
        "outputId": "205e203e-c1ed-49d9-f0cf-3a024719b86c"
      },
      "outputs": [
        {
          "output_type": "stream",
          "name": "stdout",
          "text": [
            "Drive already mounted at /content/drive; to attempt to forcibly remount, call drive.mount(\"/content/drive\", force_remount=True).\n",
            "Accuracy: 65.77%\n",
            "Classification Report:\n",
            "              precision    recall  f1-score   support\n",
            "\n",
            "           0       0.71      0.64      0.67        61\n",
            "           1       0.61      0.68      0.64        50\n",
            "\n",
            "    accuracy                           0.66       111\n",
            "   macro avg       0.66      0.66      0.66       111\n",
            "weighted avg       0.66      0.66      0.66       111\n",
            "\n"
          ]
        }
      ],
      "source": [
        "# Evaluate the classifier\n",
        "accuracy = accuracy_score(y_test, y_pred)\n",
        "report = classification_report(y_test, y_pred)\n",
        "\n",
        "print(f'Accuracy: {accuracy * 100:.2f}%')\n",
        "print('Classification Report:')\n",
        "print(report)\n"
      ]
    },
    {
      "cell_type": "code",
      "source": [
        "# Assuming y_test and y_pred are your true and predicted labels respectively\n",
        "conf_matrix = confusion_matrix(y_test, y_pred)\n",
        "\n",
        "# Plot the confusion matrix\n",
        "plt.figure(figsize=(8, 6))\n",
        "sns.heatmap(conf_matrix, annot=True, fmt=\"d\", cmap=\"Blues\", xticklabels=['Dog', 'Cat'], yticklabels=['Dog', 'Cat'])\n",
        "plt.xlabel('Predicted')\n",
        "plt.ylabel('True')\n",
        "plt.show()"
      ],
      "metadata": {
        "colab": {
          "base_uri": "https://localhost:8080/",
          "height": 542
        },
        "id": "OYTVXJpdZSQd",
        "outputId": "26e46851-4570-480a-e6cb-d3c8e0510b74"
      },
      "execution_count": 9,
      "outputs": [
        {
          "output_type": "display_data",
          "data": {
            "text/plain": [
              "<Figure size 800x600 with 2 Axes>"
            ],
            "image/png": "[encoded data removed]"
          },
          "metadata": {}
        }
      ]
    },
    {
      "cell_type": "code",
      "source": [],
      "metadata": {
        "id": "3cEUbjLxbDJr"
      },
      "execution_count": null,
      "outputs": []
    }
  ]
}